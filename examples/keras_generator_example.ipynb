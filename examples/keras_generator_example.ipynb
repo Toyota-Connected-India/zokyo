{
 "cells": [
  {
   "cell_type": "code",
   "execution_count": 1,
   "id": "348fe736",
   "metadata": {},
   "outputs": [],
   "source": [
    "from zokyo.augmentation import Builder # Import Builder class from zokyo"
   ]
  },
  {
   "cell_type": "markdown",
   "id": "3faebba8",
   "metadata": {},
   "source": [
    "### Keras generator\n",
    "\n",
    "The instance of a Builder class can be used to obtain a Keras generator which yields batches of augmented images for input of a Keras/Tensorflow model. The *get_keras_generator* function accepts:\n",
    "1. batch_size: determines number of augmented images in the output batch\n",
    "2. internal_batch: determines number of images augmented internally\n",
    "3. task: this is the training task the generator is required for (classification or detection or segmentation) based on which corresponding augmentations are also to the annotations or masks.\n",
    "4. input_func: the pre-processing function of the images.\n",
    "5. output_func: the post-processing function of the images."
   ]
  },
  {
   "cell_type": "code",
   "execution_count": 2,
   "id": "86cd8441",
   "metadata": {},
   "outputs": [],
   "source": [
    "builder_keras = Builder('configs/keras_generator_config.json')\n",
    "\n",
    "dummy_input_func = lambda x: x\n",
    "dummy_output_func = lambda y: y\n",
    "task = \"classification\" # \"detection\" \"segmentation\"\n",
    "keras_gen = builder_keras.get_keras_generator(batch_size=3,internal_batch=2,task=task, input_func=dummy_input_func, output_func=dummy_output_func)"
   ]
  },
  {
   "cell_type": "code",
   "execution_count": 3,
   "id": "baf838ed",
   "metadata": {},
   "outputs": [
    {
     "name": "stdout",
     "output_type": "stream",
     "text": [
      "Batch 0: 3, 3\n",
      "Batch 1: 3, 3\n"
     ]
    }
   ],
   "source": [
    "idx = 0\n",
    "n_batch = len(keras_gen)\n",
    "\n",
    "while idx < n_batch:\n",
    "    \n",
    "    x_batch, y_batch = keras_gen[idx]\n",
    "    print(f'Batch {idx}: {len(x_batch)}, {len(y_batch)}')\n",
    "    idx += 1"
   ]
  }
 ],
 "metadata": {
  "kernelspec": {
   "display_name": "spynx",
   "language": "python",
   "name": "spynx"
  },
  "language_info": {
   "codemirror_mode": {
    "name": "ipython",
    "version": 3
   },
   "file_extension": ".py",
   "mimetype": "text/x-python",
   "name": "python",
   "nbconvert_exporter": "python",
   "pygments_lexer": "ipython3",
   "version": "3.8.0"
  }
 },
 "nbformat": 4,
 "nbformat_minor": 5
}
